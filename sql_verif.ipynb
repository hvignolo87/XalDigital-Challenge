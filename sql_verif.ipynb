{
 "cells": [
  {
   "cell_type": "code",
   "execution_count": 1,
   "metadata": {},
   "outputs": [],
   "source": [
    "# Import PyGreSQL module to handle DB connections and queries\n",
    "from pg import DB \n",
    "\n",
    "# Create a connection with the DB\n",
    "db = DB(\n",
    "            dbname = 'xaldigital', \n",
    "            host   = 'localhost',\n",
    "            port   = 5432, \n",
    "            user   = 'postgres', \n",
    "            passwd = 'Hernan6938'\n",
    "        )"
   ]
  },
  {
   "cell_type": "code",
   "execution_count": 2,
   "metadata": {},
   "outputs": [
    {
     "data": {
      "text/plain": [
       "'9'"
      ]
     },
     "execution_count": 2,
     "metadata": {},
     "output_type": "execute_result"
    }
   ],
   "source": [
    "db.query(\n",
    "    \"\"\"\n",
    "    CREATE TABLE IF NOT EXISTS aerolineas\n",
    "    (\n",
    "        id_aerolinea INT NOT NULL,\n",
    "        nombre_aerolinea VARCHAR(20),\n",
    "        PRIMARY KEY(id_aerolinea)\n",
    "    );\n",
    "    \"\"\"\n",
    ")\n",
    "\n",
    "db.query(\n",
    "    \"\"\"\n",
    "    INSERT INTO aerolineas VALUES\n",
    "    (1, 'Volaris'), (2, 'Aeromar'), \n",
    "    (3, 'Interjet'), (4, 'Aeromexico');\n",
    "    \"\"\"\n",
    ")\n",
    "\n",
    "db.query(\n",
    "    \"\"\"\n",
    "    CREATE TABLE IF NOT EXISTS aeropuertos\n",
    "    (\n",
    "        id_aeropuerto INT NOT NULL,\n",
    "        nombre_aeropuerto VARCHAR(20),\n",
    "        PRIMARY KEY(id_aeropuerto)\n",
    "    );\n",
    "    \"\"\"\n",
    ")\n",
    "\n",
    "db.query(\n",
    "    \"\"\"\n",
    "    INSERT INTO aeropuertos VALUES\n",
    "    (1, 'Benito Juarez'), (2, 'Guanajuato'), \n",
    "    (3, 'La Paz'), (4, 'Oaxaca');\n",
    "    \"\"\"\n",
    ")\n",
    "\n",
    "db.query(\n",
    "    \"\"\"\n",
    "    CREATE TABLE IF NOT EXISTS movimientos\n",
    "    (\n",
    "        id_movimiento INT NOT NULL,\n",
    "        descripcion VARCHAR(20),\n",
    "        PRIMARY KEY(id_movimiento)\n",
    "    );\n",
    "    \"\"\"\n",
    ")\n",
    "\n",
    "db.query(\n",
    "    \"\"\"\n",
    "    INSERT INTO movimientos VALUES\n",
    "    (1, 'Salida'), (2, 'Llegada');\n",
    "    \"\"\"\n",
    ")\n",
    "\n",
    "db.query(\n",
    "    \"\"\"\n",
    "    CREATE TABLE vuelos\n",
    "    (\n",
    "        id_aerolinea INT NOT NULL,\n",
    "        id_aeropuerto INT NOT NULL,\n",
    "        id_movimiento INT NOT NULL,\n",
    "        dia DATE\n",
    "    );\n",
    "    \"\"\"\n",
    ")\n",
    "\n",
    "db.query(\n",
    "    \"\"\"\n",
    "    INSERT INTO vuelos VALUES\n",
    "    (1, 1, 1, '2021-05-02'), \n",
    "    (2, 1, 1, '2021-05-02'), \n",
    "    (3, 2, 2, '2021-05-02'), \n",
    "    (4, 3, 2, '2021-05-02'), \n",
    "    (1, 3, 2, '2021-05-02'), \n",
    "    (2, 1, 1, '2021-05-02'), \n",
    "    (2, 3, 1, '2021-05-04'), \n",
    "    (3, 4, 1, '2021-05-04'), \n",
    "    (3, 4, 1, '2021-05-04');\n",
    "    \"\"\"\n",
    ")"
   ]
  },
  {
   "cell_type": "code",
   "execution_count": 8,
   "metadata": {},
   "outputs": [
    {
     "name": "stdout",
     "output_type": "stream",
     "text": [
      "nombre_aeropuerto\n",
      "-----------------\n",
      "Benito Juarez    \n",
      "La Paz           \n",
      "(2 rows)\n"
     ]
    }
   ],
   "source": [
    "print(\n",
    "db.query(\n",
    "    \"\"\"\n",
    "    SELECT nombre_aeropuerto\n",
    "    FROM aeropuertos\n",
    "    INNER JOIN vuelos\n",
    "    ON vuelos.id_aeropuerto = aeropuertos.id_aeropuerto\n",
    "    GROUP BY nombre_aeropuerto\n",
    "    HAVING COUNT(vuelos.id_movimiento) = \n",
    "    (\n",
    "        SELECT COUNT(id_movimiento) AS mov_count\n",
    "        FROM vuelos\n",
    "        GROUP BY id_aeropuerto\n",
    "        ORDER BY mov_count DESC \n",
    "        LIMIT 1\n",
    "    );\n",
    "    \"\"\"\n",
    "))"
   ]
  },
  {
   "cell_type": "code",
   "execution_count": 10,
   "metadata": {},
   "outputs": [
    {
     "name": "stdout",
     "output_type": "stream",
     "text": [
      "nombre_aerolinea\n",
      "----------------\n",
      "Aeromar         \n",
      "Interjet        \n",
      "(2 rows)\n"
     ]
    }
   ],
   "source": [
    "print(\n",
    "db.query(\n",
    "    \"\"\"\n",
    "    SELECT nombre_aerolinea\n",
    "    FROM aerolineas\n",
    "    INNER JOIN vuelos\n",
    "    ON vuelos.id_aerolinea = aerolineas.id_aerolinea\n",
    "    GROUP BY nombre_aerolinea\n",
    "    HAVING COUNT(vuelos.id_movimiento) = \n",
    "    (\n",
    "        SELECT COUNT(id_movimiento) AS mov_count\n",
    "        FROM vuelos\n",
    "        GROUP BY id_aerolinea\n",
    "        ORDER BY mov_count DESC \n",
    "        LIMIT 1\n",
    "    );\n",
    "    \"\"\"\n",
    "))"
   ]
  },
  {
   "cell_type": "code",
   "execution_count": 11,
   "metadata": {},
   "outputs": [
    {
     "name": "stdout",
     "output_type": "stream",
     "text": [
      "   dia    \n",
      "----------\n",
      "2021-05-02\n",
      "(1 row)\n"
     ]
    }
   ],
   "source": [
    "print(\n",
    "db.query(\n",
    "    \"\"\"\n",
    "    SELECT dia \n",
    "    FROM vuelos\n",
    "    GROUP BY dia\n",
    "    HAVING COUNT(dia) = \n",
    "    (\n",
    "        SELECT COUNT(dia)\n",
    "        FROM vuelos \n",
    "        GROUP BY dia\n",
    "        ORDER BY dia ASC\n",
    "        LIMIT 1\n",
    "    );\n",
    "    \"\"\"\n",
    "))"
   ]
  },
  {
   "cell_type": "code",
   "execution_count": 14,
   "metadata": {},
   "outputs": [
    {
     "name": "stdout",
     "output_type": "stream",
     "text": [
      "nombre_aerolinea\n",
      "----------------\n",
      "(0 rows)\n"
     ]
    }
   ],
   "source": [
    "print(\n",
    "db.query(\n",
    "    \"\"\"\n",
    "    SELECT\n",
    "    nombre_aerolinea\n",
    "    FROM aerolineas\n",
    "    INNER JOIN vuelos\n",
    "    ON vuelos.id_aerolinea = aerolineas.id_aerolinea\n",
    "    GROUP BY nombre_aerolinea, vuelos.dia\n",
    "    HAVING COUNT(vuelos.id_aerolinea) > 2;\n",
    "    \"\"\"\n",
    "))"
   ]
  }
 ],
 "metadata": {
  "interpreter": {
   "hash": "ad2bdc8ecc057115af97d19610ffacc2b4e99fae6737bb82f5d7fb13d2f2c186"
  },
  "kernelspec": {
   "display_name": "Python 3.8.13 ('base')",
   "language": "python",
   "name": "python3"
  },
  "language_info": {
   "codemirror_mode": {
    "name": "ipython",
    "version": 3
   },
   "file_extension": ".py",
   "mimetype": "text/x-python",
   "name": "python",
   "nbconvert_exporter": "python",
   "pygments_lexer": "ipython3",
   "version": "3.8.13"
  },
  "orig_nbformat": 4
 },
 "nbformat": 4,
 "nbformat_minor": 2
}
